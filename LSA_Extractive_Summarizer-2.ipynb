{
  "cells": [
    {
      "cell_type": "markdown",
      "id": "4fd9bbb0-5caf-4044-bafd-f2c0569d5dc1",
      "metadata": {
        "id": "4fd9bbb0-5caf-4044-bafd-f2c0569d5dc1"
      },
      "source": [
        "### Install the Libraries:\n",
        "\n",
        "The libraries used to run the Summarizer and Metrics."
      ]
    },
    {
      "cell_type": "code",
      "execution_count": 25,
      "id": "0f75af59-0437-4d7c-a6b8-222f604dfe4e",
      "metadata": {
        "id": "0f75af59-0437-4d7c-a6b8-222f604dfe4e"
      },
      "outputs": [],
      "source": [
        "!pip install bert-extractive-summarizer --quiet\n",
        "!pip install torchmetrics --quiet\n"
      ]
    },
    {
      "cell_type": "markdown",
      "id": "d16a00d8-f50b-40b8-ac14-fc29ed551d61",
      "metadata": {
        "id": "d16a00d8-f50b-40b8-ac14-fc29ed551d61"
      },
      "source": [
        "### Importing the Libraries:"
      ]
    },
    {
      "cell_type": "code",
      "execution_count": null,
      "id": "dafbd848-2c4e-4bde-8ec3-10cb05cadc1f",
      "metadata": {
        "id": "dafbd848-2c4e-4bde-8ec3-10cb05cadc1f"
      },
      "outputs": [],
      "source": [
        "import re\n",
        "import nltk\n",
        "import numpy as np\n",
        "from sklearn.feature_extraction.text import TfidfVectorizer\n",
        "import pandas as pd\n",
        "from scipy.sparse.linalg import svds\n",
        "from torchmetrics.text.rouge import ROUGEScore\n",
        "from pprint import pprint\n",
        "nltk.download('all')"
      ]
    },
    {
      "cell_type": "markdown",
      "id": "ae88e975-63df-4bed-8472-c49a6815df12",
      "metadata": {
        "id": "ae88e975-63df-4bed-8472-c49a6815df12"
      },
      "source": [
        "### Dataset\n",
        "\n",
        "A text corpus extracted from the MS^2 dataset to compare BERT vs LSA. This dataset is one of the corpus tested on where LSA outperforms BERT on ROUGE metrics."
      ]
    },
    {
      "cell_type": "code",
      "execution_count": 27,
      "id": "905f309f-1c59-4d3e-a9c5-08739e146a94",
      "metadata": {
        "id": "905f309f-1c59-4d3e-a9c5-08739e146a94"
      },
      "outputs": [],
      "source": [
        "body_2 = \"\"\"I saw ABC back in Neuro-Oncology Clinic today. He comes in for an urgent visit because of increasing questions about what to do next for his anaplastic astrocytoma.\n",
        "Within the last several days, he has seen you in clinic and once again discussed whether or not to undergo radiation for his left temporal lesion.\n",
        "The patient has clearly been extremely ambivalent about this therapy for reasons that are not immediately apparent.\n",
        "It is clear that his MRI is progressing and that it seems unlikely at this time that anything other than radiation would be particularly effective.\n",
        "Despite repeatedly emphasizing this; however, the patient still is worried about potential long-term side effects from treatment that frankly seem unwarranted at this particular time.\n",
        "After seeing you in clinic, he and his friend again wanted to discuss possible changes in the chemotherapy regimen.\n",
        "They came in with a list of eight possible agents that they would like to be administered within the next two weeks.\n",
        "They then wanted another MRI to be performed and they were hoping that with the use of this type of approach, they might be able to induce another remission from which he can once again be spared radiation.\n",
        "From my view, I noticed a man whose language has deteriorated in the week since I last saw him. This is very worrisome. Today, for the first time, I felt that there was a definite right facial droop as well.\n",
        "Therefore, there is no doubt that he is becoming symptomatic from his growing tumor. It suggests that he is approaching the end of his compliance curve and that the things may rapidly deteriorate in the near future.\n",
        "Emphasizing this once again, in addition, to recommending steroids I once again tried to convince him to undergo radiation. Despite an hour, this again amazingly was not possible.\n",
        "It is not that he does not want treatment, however. Because I told him that I did not feel it was ethical to just put him on the radical regimen that him and his friend devised,\n",
        "we compromised and elected to go back to Temodar in a low dose daily type regimen.\n",
        "We would plan on giving 75 mg/sq m everyday for 21 days out of 28 days. In addition, we will stop thalidomide 100 mg/day.\n",
        "If he tolerates this for one week, we then agree that we would institute another one of the medications that he listed for us. At this stage, we are thinking of using Accutane at that point.\n",
        "While I am very uncomfortable with this type of approach, I think as long as he is going to be monitored closely that we may be able to get away with this for at least a reasonable interval.\n",
        "In the spirit of compromise, he again consented to be evaluated by radiation and this time, seemed more resigned to the fact that it was going to happen sooner than later.\n",
        "I will look at this as a positive sign because I think radiation is the one therapy from which he can get a reasonable response in the long term.\n",
        "I will keep you apprised of followups. If you have any questions or if I could be of any further assistance, feel free to contact me.\n",
        "\"\"\""
      ]
    },
    {
      "cell_type": "markdown",
      "id": "d5c1ed30-978d-4dcc-8ed4-187db925e142",
      "metadata": {
        "id": "d5c1ed30-978d-4dcc-8ed4-187db925e142"
      },
      "source": [
        "### Preprocesses a document by removing special characters, converting to lowercase, tokenizing, and filtering out English stopwords from NLTK's corpus.\n"
      ]
    },
    {
      "cell_type": "code",
      "execution_count": 28,
      "id": "287433bb-c87e-4ddc-9733-9bb7b44908b1",
      "metadata": {
        "id": "287433bb-c87e-4ddc-9733-9bb7b44908b1"
      },
      "outputs": [],
      "source": [
        "body_2 = re.sub(r'\\n|\\r', ' ', body_2)\n",
        "body_2 = re.sub(r' +', ' ', body_2)\n",
        "body_2 = body_2.strip()"
      ]
    },
    {
      "cell_type": "code",
      "execution_count": 29,
      "id": "996e8e15-f1cd-417f-9af6-15901bca3fac",
      "metadata": {
        "colab": {
          "base_uri": "https://localhost:8080/"
        },
        "id": "996e8e15-f1cd-417f-9af6-15901bca3fac",
        "outputId": "283be411-e385-496d-b367-f22ba53e837b"
      },
      "outputs": [
        {
          "output_type": "execute_result",
          "data": {
            "text/plain": [
              "27"
            ]
          },
          "metadata": {},
          "execution_count": 29
        }
      ],
      "source": [
        "sentences = nltk.sent_tokenize(body_2)\n",
        "len(sentences)"
      ]
    },
    {
      "cell_type": "code",
      "execution_count": 30,
      "id": "6a780e07-ebde-4ea1-955e-2b35089e42c3",
      "metadata": {
        "id": "6a780e07-ebde-4ea1-955e-2b35089e42c3"
      },
      "outputs": [],
      "source": [
        "stop_words = nltk.corpus.stopwords.words('english')\n",
        "\n",
        "def normalize_body_2(doc):\n",
        "    # lower case and remove special characters\\whitespaces\n",
        "    doc = re.sub(r'[^a-zA-Z\\s]', '', doc, re.I|re.A)\n",
        "    doc = doc.lower()\n",
        "    doc = doc.strip()\n",
        "    # tokenize body_2\n",
        "    tokens = nltk.word_tokenize(doc)\n",
        "    # filter stopwords out of body_2\n",
        "    filtered_tokens = [token for token in tokens if token not in stop_words]\n",
        "    # re-create body_2 from filtered tokens\n",
        "    doc = ' '.join(filtered_tokens)\n",
        "    return doc\n",
        "normalize_corpus = np.vectorize(normalize_body_2)\n"
      ]
    },
    {
      "cell_type": "code",
      "execution_count": 31,
      "id": "21e22ab8-6dfc-4365-a570-f1d654618022",
      "metadata": {
        "colab": {
          "base_uri": "https://localhost:8080/"
        },
        "id": "21e22ab8-6dfc-4365-a570-f1d654618022",
        "outputId": "0f3d0624-6fb7-4214-d4bf-65ff97bd6fc5"
      },
      "outputs": [
        {
          "output_type": "execute_result",
          "data": {
            "text/plain": [
              "array(['saw abc back neurooncology clinic today',\n",
              "       'comes urgent visit increasing questions next anaplastic astrocytoma',\n",
              "       'within last several days seen clinic discussed whether undergo radiation left temporal lesion'],\n",
              "      dtype='<U143')"
            ]
          },
          "metadata": {},
          "execution_count": 31
        }
      ],
      "source": [
        "norm_sentences = normalize_corpus(sentences)\n",
        "norm_sentences[:3]"
      ]
    },
    {
      "cell_type": "markdown",
      "id": "fc614f01-3460-41cd-9a21-863a3dd88c7b",
      "metadata": {
        "id": "fc614f01-3460-41cd-9a21-863a3dd88c7b"
      },
      "source": [
        "### Converts normalized sentences into a TF-IDF matrix, transposes it, and displays a sample DataFrame of the transposed matrix with vocabulary.\n"
      ]
    },
    {
      "cell_type": "code",
      "execution_count": 32,
      "id": "d8516096-48cf-4222-9f59-8a857544d7ca",
      "metadata": {
        "colab": {
          "base_uri": "https://localhost:8080/",
          "height": 405
        },
        "id": "d8516096-48cf-4222-9f59-8a857544d7ca",
        "outputId": "d9603c15-7b93-4658-cc7e-0c13abefa627"
      },
      "outputs": [
        {
          "output_type": "stream",
          "name": "stdout",
          "text": [
            "(192, 27)\n"
          ]
        },
        {
          "output_type": "execute_result",
          "data": {
            "text/plain": [
              "             0     1     2    3    4    5    6    7    8     9   ...   17  \\\n",
              "evaluated   0.0  0.00  0.00  0.0  0.0  0.0  0.0  0.0  0.0  0.00  ...  0.0   \n",
              "lesion      0.0  0.00  0.30  0.0  0.0  0.0  0.0  0.0  0.0  0.00  ...  0.0   \n",
              "addition    0.0  0.00  0.00  0.0  0.0  0.0  0.0  0.0  0.0  0.00  ...  0.0   \n",
              "anaplastic  0.0  0.36  0.00  0.0  0.0  0.0  0.0  0.0  0.0  0.00  ...  0.0   \n",
              "whose       0.0  0.00  0.00  0.0  0.0  0.0  0.0  0.0  0.0  0.33  ...  0.0   \n",
              "saw         0.4  0.00  0.00  0.0  0.0  0.0  0.0  0.0  0.0  0.29  ...  0.0   \n",
              "long        0.0  0.00  0.00  0.0  0.0  0.0  0.0  0.0  0.0  0.00  ...  0.0   \n",
              "last        0.0  0.00  0.26  0.0  0.0  0.0  0.0  0.0  0.0  0.29  ...  0.0   \n",
              "convince    0.0  0.00  0.00  0.0  0.0  0.0  0.0  0.0  0.0  0.00  ...  0.0   \n",
              "rapidly     0.0  0.00  0.00  0.0  0.0  0.0  0.0  0.0  0.0  0.00  ...  0.0   \n",
              "\n",
              "             18    19   20   21    22    23    24   25   26  \n",
              "evaluated   0.0  0.00  0.0  0.0  0.00  0.29  0.00  0.0  0.0  \n",
              "lesion      0.0  0.00  0.0  0.0  0.00  0.00  0.00  0.0  0.0  \n",
              "addition    0.0  0.46  0.0  0.0  0.00  0.00  0.00  0.0  0.0  \n",
              "anaplastic  0.0  0.00  0.0  0.0  0.00  0.00  0.00  0.0  0.0  \n",
              "whose       0.0  0.00  0.0  0.0  0.00  0.00  0.00  0.0  0.0  \n",
              "saw         0.0  0.00  0.0  0.0  0.00  0.00  0.00  0.0  0.0  \n",
              "long        0.0  0.00  0.0  0.0  0.25  0.00  0.28  0.0  0.0  \n",
              "last        0.0  0.00  0.0  0.0  0.00  0.00  0.00  0.0  0.0  \n",
              "convince    0.0  0.00  0.0  0.0  0.00  0.00  0.00  0.0  0.0  \n",
              "rapidly     0.0  0.00  0.0  0.0  0.00  0.00  0.00  0.0  0.0  \n",
              "\n",
              "[10 rows x 27 columns]"
            ],
            "text/html": [
              "\n",
              "  <div id=\"df-7f9ee8af-2583-44db-9bab-91abb8bc9cc9\" class=\"colab-df-container\">\n",
              "    <div>\n",
              "<style scoped>\n",
              "    .dataframe tbody tr th:only-of-type {\n",
              "        vertical-align: middle;\n",
              "    }\n",
              "\n",
              "    .dataframe tbody tr th {\n",
              "        vertical-align: top;\n",
              "    }\n",
              "\n",
              "    .dataframe thead th {\n",
              "        text-align: right;\n",
              "    }\n",
              "</style>\n",
              "<table border=\"1\" class=\"dataframe\">\n",
              "  <thead>\n",
              "    <tr style=\"text-align: right;\">\n",
              "      <th></th>\n",
              "      <th>0</th>\n",
              "      <th>1</th>\n",
              "      <th>2</th>\n",
              "      <th>3</th>\n",
              "      <th>4</th>\n",
              "      <th>5</th>\n",
              "      <th>6</th>\n",
              "      <th>7</th>\n",
              "      <th>8</th>\n",
              "      <th>9</th>\n",
              "      <th>...</th>\n",
              "      <th>17</th>\n",
              "      <th>18</th>\n",
              "      <th>19</th>\n",
              "      <th>20</th>\n",
              "      <th>21</th>\n",
              "      <th>22</th>\n",
              "      <th>23</th>\n",
              "      <th>24</th>\n",
              "      <th>25</th>\n",
              "      <th>26</th>\n",
              "    </tr>\n",
              "  </thead>\n",
              "  <tbody>\n",
              "    <tr>\n",
              "      <th>evaluated</th>\n",
              "      <td>0.0</td>\n",
              "      <td>0.00</td>\n",
              "      <td>0.00</td>\n",
              "      <td>0.0</td>\n",
              "      <td>0.0</td>\n",
              "      <td>0.0</td>\n",
              "      <td>0.0</td>\n",
              "      <td>0.0</td>\n",
              "      <td>0.0</td>\n",
              "      <td>0.00</td>\n",
              "      <td>...</td>\n",
              "      <td>0.0</td>\n",
              "      <td>0.0</td>\n",
              "      <td>0.00</td>\n",
              "      <td>0.0</td>\n",
              "      <td>0.0</td>\n",
              "      <td>0.00</td>\n",
              "      <td>0.29</td>\n",
              "      <td>0.00</td>\n",
              "      <td>0.0</td>\n",
              "      <td>0.0</td>\n",
              "    </tr>\n",
              "    <tr>\n",
              "      <th>lesion</th>\n",
              "      <td>0.0</td>\n",
              "      <td>0.00</td>\n",
              "      <td>0.30</td>\n",
              "      <td>0.0</td>\n",
              "      <td>0.0</td>\n",
              "      <td>0.0</td>\n",
              "      <td>0.0</td>\n",
              "      <td>0.0</td>\n",
              "      <td>0.0</td>\n",
              "      <td>0.00</td>\n",
              "      <td>...</td>\n",
              "      <td>0.0</td>\n",
              "      <td>0.0</td>\n",
              "      <td>0.00</td>\n",
              "      <td>0.0</td>\n",
              "      <td>0.0</td>\n",
              "      <td>0.00</td>\n",
              "      <td>0.00</td>\n",
              "      <td>0.00</td>\n",
              "      <td>0.0</td>\n",
              "      <td>0.0</td>\n",
              "    </tr>\n",
              "    <tr>\n",
              "      <th>addition</th>\n",
              "      <td>0.0</td>\n",
              "      <td>0.00</td>\n",
              "      <td>0.00</td>\n",
              "      <td>0.0</td>\n",
              "      <td>0.0</td>\n",
              "      <td>0.0</td>\n",
              "      <td>0.0</td>\n",
              "      <td>0.0</td>\n",
              "      <td>0.0</td>\n",
              "      <td>0.00</td>\n",
              "      <td>...</td>\n",
              "      <td>0.0</td>\n",
              "      <td>0.0</td>\n",
              "      <td>0.46</td>\n",
              "      <td>0.0</td>\n",
              "      <td>0.0</td>\n",
              "      <td>0.00</td>\n",
              "      <td>0.00</td>\n",
              "      <td>0.00</td>\n",
              "      <td>0.0</td>\n",
              "      <td>0.0</td>\n",
              "    </tr>\n",
              "    <tr>\n",
              "      <th>anaplastic</th>\n",
              "      <td>0.0</td>\n",
              "      <td>0.36</td>\n",
              "      <td>0.00</td>\n",
              "      <td>0.0</td>\n",
              "      <td>0.0</td>\n",
              "      <td>0.0</td>\n",
              "      <td>0.0</td>\n",
              "      <td>0.0</td>\n",
              "      <td>0.0</td>\n",
              "      <td>0.00</td>\n",
              "      <td>...</td>\n",
              "      <td>0.0</td>\n",
              "      <td>0.0</td>\n",
              "      <td>0.00</td>\n",
              "      <td>0.0</td>\n",
              "      <td>0.0</td>\n",
              "      <td>0.00</td>\n",
              "      <td>0.00</td>\n",
              "      <td>0.00</td>\n",
              "      <td>0.0</td>\n",
              "      <td>0.0</td>\n",
              "    </tr>\n",
              "    <tr>\n",
              "      <th>whose</th>\n",
              "      <td>0.0</td>\n",
              "      <td>0.00</td>\n",
              "      <td>0.00</td>\n",
              "      <td>0.0</td>\n",
              "      <td>0.0</td>\n",
              "      <td>0.0</td>\n",
              "      <td>0.0</td>\n",
              "      <td>0.0</td>\n",
              "      <td>0.0</td>\n",
              "      <td>0.33</td>\n",
              "      <td>...</td>\n",
              "      <td>0.0</td>\n",
              "      <td>0.0</td>\n",
              "      <td>0.00</td>\n",
              "      <td>0.0</td>\n",
              "      <td>0.0</td>\n",
              "      <td>0.00</td>\n",
              "      <td>0.00</td>\n",
              "      <td>0.00</td>\n",
              "      <td>0.0</td>\n",
              "      <td>0.0</td>\n",
              "    </tr>\n",
              "    <tr>\n",
              "      <th>saw</th>\n",
              "      <td>0.4</td>\n",
              "      <td>0.00</td>\n",
              "      <td>0.00</td>\n",
              "      <td>0.0</td>\n",
              "      <td>0.0</td>\n",
              "      <td>0.0</td>\n",
              "      <td>0.0</td>\n",
              "      <td>0.0</td>\n",
              "      <td>0.0</td>\n",
              "      <td>0.29</td>\n",
              "      <td>...</td>\n",
              "      <td>0.0</td>\n",
              "      <td>0.0</td>\n",
              "      <td>0.00</td>\n",
              "      <td>0.0</td>\n",
              "      <td>0.0</td>\n",
              "      <td>0.00</td>\n",
              "      <td>0.00</td>\n",
              "      <td>0.00</td>\n",
              "      <td>0.0</td>\n",
              "      <td>0.0</td>\n",
              "    </tr>\n",
              "    <tr>\n",
              "      <th>long</th>\n",
              "      <td>0.0</td>\n",
              "      <td>0.00</td>\n",
              "      <td>0.00</td>\n",
              "      <td>0.0</td>\n",
              "      <td>0.0</td>\n",
              "      <td>0.0</td>\n",
              "      <td>0.0</td>\n",
              "      <td>0.0</td>\n",
              "      <td>0.0</td>\n",
              "      <td>0.00</td>\n",
              "      <td>...</td>\n",
              "      <td>0.0</td>\n",
              "      <td>0.0</td>\n",
              "      <td>0.00</td>\n",
              "      <td>0.0</td>\n",
              "      <td>0.0</td>\n",
              "      <td>0.25</td>\n",
              "      <td>0.00</td>\n",
              "      <td>0.28</td>\n",
              "      <td>0.0</td>\n",
              "      <td>0.0</td>\n",
              "    </tr>\n",
              "    <tr>\n",
              "      <th>last</th>\n",
              "      <td>0.0</td>\n",
              "      <td>0.00</td>\n",
              "      <td>0.26</td>\n",
              "      <td>0.0</td>\n",
              "      <td>0.0</td>\n",
              "      <td>0.0</td>\n",
              "      <td>0.0</td>\n",
              "      <td>0.0</td>\n",
              "      <td>0.0</td>\n",
              "      <td>0.29</td>\n",
              "      <td>...</td>\n",
              "      <td>0.0</td>\n",
              "      <td>0.0</td>\n",
              "      <td>0.00</td>\n",
              "      <td>0.0</td>\n",
              "      <td>0.0</td>\n",
              "      <td>0.00</td>\n",
              "      <td>0.00</td>\n",
              "      <td>0.00</td>\n",
              "      <td>0.0</td>\n",
              "      <td>0.0</td>\n",
              "    </tr>\n",
              "    <tr>\n",
              "      <th>convince</th>\n",
              "      <td>0.0</td>\n",
              "      <td>0.00</td>\n",
              "      <td>0.00</td>\n",
              "      <td>0.0</td>\n",
              "      <td>0.0</td>\n",
              "      <td>0.0</td>\n",
              "      <td>0.0</td>\n",
              "      <td>0.0</td>\n",
              "      <td>0.0</td>\n",
              "      <td>0.00</td>\n",
              "      <td>...</td>\n",
              "      <td>0.0</td>\n",
              "      <td>0.0</td>\n",
              "      <td>0.00</td>\n",
              "      <td>0.0</td>\n",
              "      <td>0.0</td>\n",
              "      <td>0.00</td>\n",
              "      <td>0.00</td>\n",
              "      <td>0.00</td>\n",
              "      <td>0.0</td>\n",
              "      <td>0.0</td>\n",
              "    </tr>\n",
              "    <tr>\n",
              "      <th>rapidly</th>\n",
              "      <td>0.0</td>\n",
              "      <td>0.00</td>\n",
              "      <td>0.00</td>\n",
              "      <td>0.0</td>\n",
              "      <td>0.0</td>\n",
              "      <td>0.0</td>\n",
              "      <td>0.0</td>\n",
              "      <td>0.0</td>\n",
              "      <td>0.0</td>\n",
              "      <td>0.00</td>\n",
              "      <td>...</td>\n",
              "      <td>0.0</td>\n",
              "      <td>0.0</td>\n",
              "      <td>0.00</td>\n",
              "      <td>0.0</td>\n",
              "      <td>0.0</td>\n",
              "      <td>0.00</td>\n",
              "      <td>0.00</td>\n",
              "      <td>0.00</td>\n",
              "      <td>0.0</td>\n",
              "      <td>0.0</td>\n",
              "    </tr>\n",
              "  </tbody>\n",
              "</table>\n",
              "<p>10 rows × 27 columns</p>\n",
              "</div>\n",
              "    <div class=\"colab-df-buttons\">\n",
              "\n",
              "  <div class=\"colab-df-container\">\n",
              "    <button class=\"colab-df-convert\" onclick=\"convertToInteractive('df-7f9ee8af-2583-44db-9bab-91abb8bc9cc9')\"\n",
              "            title=\"Convert this dataframe to an interactive table.\"\n",
              "            style=\"display:none;\">\n",
              "\n",
              "  <svg xmlns=\"http://www.w3.org/2000/svg\" height=\"24px\" viewBox=\"0 -960 960 960\">\n",
              "    <path d=\"M120-120v-720h720v720H120Zm60-500h600v-160H180v160Zm220 220h160v-160H400v160Zm0 220h160v-160H400v160ZM180-400h160v-160H180v160Zm440 0h160v-160H620v160ZM180-180h160v-160H180v160Zm440 0h160v-160H620v160Z\"/>\n",
              "  </svg>\n",
              "    </button>\n",
              "\n",
              "  <style>\n",
              "    .colab-df-container {\n",
              "      display:flex;\n",
              "      gap: 12px;\n",
              "    }\n",
              "\n",
              "    .colab-df-convert {\n",
              "      background-color: #E8F0FE;\n",
              "      border: none;\n",
              "      border-radius: 50%;\n",
              "      cursor: pointer;\n",
              "      display: none;\n",
              "      fill: #1967D2;\n",
              "      height: 32px;\n",
              "      padding: 0 0 0 0;\n",
              "      width: 32px;\n",
              "    }\n",
              "\n",
              "    .colab-df-convert:hover {\n",
              "      background-color: #E2EBFA;\n",
              "      box-shadow: 0px 1px 2px rgba(60, 64, 67, 0.3), 0px 1px 3px 1px rgba(60, 64, 67, 0.15);\n",
              "      fill: #174EA6;\n",
              "    }\n",
              "\n",
              "    .colab-df-buttons div {\n",
              "      margin-bottom: 4px;\n",
              "    }\n",
              "\n",
              "    [theme=dark] .colab-df-convert {\n",
              "      background-color: #3B4455;\n",
              "      fill: #D2E3FC;\n",
              "    }\n",
              "\n",
              "    [theme=dark] .colab-df-convert:hover {\n",
              "      background-color: #434B5C;\n",
              "      box-shadow: 0px 1px 3px 1px rgba(0, 0, 0, 0.15);\n",
              "      filter: drop-shadow(0px 1px 2px rgba(0, 0, 0, 0.3));\n",
              "      fill: #FFFFFF;\n",
              "    }\n",
              "  </style>\n",
              "\n",
              "    <script>\n",
              "      const buttonEl =\n",
              "        document.querySelector('#df-7f9ee8af-2583-44db-9bab-91abb8bc9cc9 button.colab-df-convert');\n",
              "      buttonEl.style.display =\n",
              "        google.colab.kernel.accessAllowed ? 'block' : 'none';\n",
              "\n",
              "      async function convertToInteractive(key) {\n",
              "        const element = document.querySelector('#df-7f9ee8af-2583-44db-9bab-91abb8bc9cc9');\n",
              "        const dataTable =\n",
              "          await google.colab.kernel.invokeFunction('convertToInteractive',\n",
              "                                                    [key], {});\n",
              "        if (!dataTable) return;\n",
              "\n",
              "        const docLinkHtml = 'Like what you see? Visit the ' +\n",
              "          '<a target=\"_blank\" href=https://colab.research.google.com/notebooks/data_table.ipynb>data table notebook</a>'\n",
              "          + ' to learn more about interactive tables.';\n",
              "        element.innerHTML = '';\n",
              "        dataTable['output_type'] = 'display_data';\n",
              "        await google.colab.output.renderOutput(dataTable, element);\n",
              "        const docLink = document.createElement('div');\n",
              "        docLink.innerHTML = docLinkHtml;\n",
              "        element.appendChild(docLink);\n",
              "      }\n",
              "    </script>\n",
              "  </div>\n",
              "\n",
              "\n",
              "<div id=\"df-bab0308b-8c03-451f-bc60-551b4b28ac83\">\n",
              "  <button class=\"colab-df-quickchart\" onclick=\"quickchart('df-bab0308b-8c03-451f-bc60-551b4b28ac83')\"\n",
              "            title=\"Suggest charts\"\n",
              "            style=\"display:none;\">\n",
              "\n",
              "<svg xmlns=\"http://www.w3.org/2000/svg\" height=\"24px\"viewBox=\"0 0 24 24\"\n",
              "     width=\"24px\">\n",
              "    <g>\n",
              "        <path d=\"M19 3H5c-1.1 0-2 .9-2 2v14c0 1.1.9 2 2 2h14c1.1 0 2-.9 2-2V5c0-1.1-.9-2-2-2zM9 17H7v-7h2v7zm4 0h-2V7h2v10zm4 0h-2v-4h2v4z\"/>\n",
              "    </g>\n",
              "</svg>\n",
              "  </button>\n",
              "\n",
              "<style>\n",
              "  .colab-df-quickchart {\n",
              "      --bg-color: #E8F0FE;\n",
              "      --fill-color: #1967D2;\n",
              "      --hover-bg-color: #E2EBFA;\n",
              "      --hover-fill-color: #174EA6;\n",
              "      --disabled-fill-color: #AAA;\n",
              "      --disabled-bg-color: #DDD;\n",
              "  }\n",
              "\n",
              "  [theme=dark] .colab-df-quickchart {\n",
              "      --bg-color: #3B4455;\n",
              "      --fill-color: #D2E3FC;\n",
              "      --hover-bg-color: #434B5C;\n",
              "      --hover-fill-color: #FFFFFF;\n",
              "      --disabled-bg-color: #3B4455;\n",
              "      --disabled-fill-color: #666;\n",
              "  }\n",
              "\n",
              "  .colab-df-quickchart {\n",
              "    background-color: var(--bg-color);\n",
              "    border: none;\n",
              "    border-radius: 50%;\n",
              "    cursor: pointer;\n",
              "    display: none;\n",
              "    fill: var(--fill-color);\n",
              "    height: 32px;\n",
              "    padding: 0;\n",
              "    width: 32px;\n",
              "  }\n",
              "\n",
              "  .colab-df-quickchart:hover {\n",
              "    background-color: var(--hover-bg-color);\n",
              "    box-shadow: 0 1px 2px rgba(60, 64, 67, 0.3), 0 1px 3px 1px rgba(60, 64, 67, 0.15);\n",
              "    fill: var(--button-hover-fill-color);\n",
              "  }\n",
              "\n",
              "  .colab-df-quickchart-complete:disabled,\n",
              "  .colab-df-quickchart-complete:disabled:hover {\n",
              "    background-color: var(--disabled-bg-color);\n",
              "    fill: var(--disabled-fill-color);\n",
              "    box-shadow: none;\n",
              "  }\n",
              "\n",
              "  .colab-df-spinner {\n",
              "    border: 2px solid var(--fill-color);\n",
              "    border-color: transparent;\n",
              "    border-bottom-color: var(--fill-color);\n",
              "    animation:\n",
              "      spin 1s steps(1) infinite;\n",
              "  }\n",
              "\n",
              "  @keyframes spin {\n",
              "    0% {\n",
              "      border-color: transparent;\n",
              "      border-bottom-color: var(--fill-color);\n",
              "      border-left-color: var(--fill-color);\n",
              "    }\n",
              "    20% {\n",
              "      border-color: transparent;\n",
              "      border-left-color: var(--fill-color);\n",
              "      border-top-color: var(--fill-color);\n",
              "    }\n",
              "    30% {\n",
              "      border-color: transparent;\n",
              "      border-left-color: var(--fill-color);\n",
              "      border-top-color: var(--fill-color);\n",
              "      border-right-color: var(--fill-color);\n",
              "    }\n",
              "    40% {\n",
              "      border-color: transparent;\n",
              "      border-right-color: var(--fill-color);\n",
              "      border-top-color: var(--fill-color);\n",
              "    }\n",
              "    60% {\n",
              "      border-color: transparent;\n",
              "      border-right-color: var(--fill-color);\n",
              "    }\n",
              "    80% {\n",
              "      border-color: transparent;\n",
              "      border-right-color: var(--fill-color);\n",
              "      border-bottom-color: var(--fill-color);\n",
              "    }\n",
              "    90% {\n",
              "      border-color: transparent;\n",
              "      border-bottom-color: var(--fill-color);\n",
              "    }\n",
              "  }\n",
              "</style>\n",
              "\n",
              "  <script>\n",
              "    async function quickchart(key) {\n",
              "      const quickchartButtonEl =\n",
              "        document.querySelector('#' + key + ' button');\n",
              "      quickchartButtonEl.disabled = true;  // To prevent multiple clicks.\n",
              "      quickchartButtonEl.classList.add('colab-df-spinner');\n",
              "      try {\n",
              "        const charts = await google.colab.kernel.invokeFunction(\n",
              "            'suggestCharts', [key], {});\n",
              "      } catch (error) {\n",
              "        console.error('Error during call to suggestCharts:', error);\n",
              "      }\n",
              "      quickchartButtonEl.classList.remove('colab-df-spinner');\n",
              "      quickchartButtonEl.classList.add('colab-df-quickchart-complete');\n",
              "    }\n",
              "    (() => {\n",
              "      let quickchartButtonEl =\n",
              "        document.querySelector('#df-bab0308b-8c03-451f-bc60-551b4b28ac83 button');\n",
              "      quickchartButtonEl.style.display =\n",
              "        google.colab.kernel.accessAllowed ? 'block' : 'none';\n",
              "    })();\n",
              "  </script>\n",
              "</div>\n",
              "\n",
              "    </div>\n",
              "  </div>\n"
            ]
          },
          "metadata": {},
          "execution_count": 32
        }
      ],
      "source": [
        "tv = TfidfVectorizer(min_df=0., max_df=1., use_idf=True)\n",
        "dt_matrix = tv.fit_transform(norm_sentences)\n",
        "dt_matrix = dt_matrix.toarray()\n",
        "\n",
        "vocab = tv.get_feature_names_out()\n",
        "td_matrix = dt_matrix.T\n",
        "print(td_matrix.shape)\n",
        "pd.DataFrame(np.round(td_matrix, 2), index=vocab).sample(10)"
      ]
    },
    {
      "cell_type": "markdown",
      "id": "ad43c022-a65a-4e3a-9ab6-f6283f51e7ff",
      "metadata": {
        "id": "ad43c022-a65a-4e3a-9ab6-f6283f51e7ff"
      },
      "source": [
        "### Performs Singular Value Decomposition (SVD) on a matrix with a specified number of singular values to compute.\n"
      ]
    },
    {
      "cell_type": "code",
      "execution_count": 33,
      "id": "e318b62d-7277-4ac4-a393-e7bce7e4fbab",
      "metadata": {
        "id": "e318b62d-7277-4ac4-a393-e7bce7e4fbab"
      },
      "outputs": [],
      "source": [
        "def low_rank_svd(matrix, singular_count=2):\n",
        "    u, s, vt = svds(matrix, k=singular_count)\n",
        "    return u, s, vt"
      ]
    },
    {
      "cell_type": "markdown",
      "id": "5c87054d-8ef5-4069-9a96-240b810e9ad5",
      "metadata": {
        "id": "5c87054d-8ef5-4069-9a96-240b810e9ad5"
      },
      "source": [
        "### Perform Singular Value Decomposition (SVD) to extract topics from the term-document matrix."
      ]
    },
    {
      "cell_type": "code",
      "execution_count": 34,
      "id": "98477786-c7d7-4ef2-b5a2-39950118a5dc",
      "metadata": {
        "colab": {
          "base_uri": "https://localhost:8080/"
        },
        "id": "98477786-c7d7-4ef2-b5a2-39950118a5dc",
        "outputId": "bcc84bf8-6c08-47c7-9656-17d8cdc0d17c"
      },
      "outputs": [
        {
          "output_type": "stream",
          "name": "stdout",
          "text": [
            "(192, 3) (3,) (3, 27)\n"
          ]
        }
      ],
      "source": [
        "num_sentences = 8\n",
        "num_topics = 3\n",
        "\n",
        "u, s, vt = low_rank_svd(td_matrix, singular_count=num_topics)\n",
        "print(u.shape, s.shape, vt.shape)\n",
        "term_topic_mat, singular_values, topic_body_2_mat = u, s, vt"
      ]
    },
    {
      "cell_type": "markdown",
      "id": "0349e689-15e2-4749-bc92-25d3195ac88f",
      "metadata": {
        "id": "0349e689-15e2-4749-bc92-25d3195ac88f"
      },
      "source": [
        "### Remove singular values below threshold"
      ]
    },
    {
      "cell_type": "code",
      "execution_count": 35,
      "id": "6961fbd1-7f50-45b0-8eb9-ebf370fce53b",
      "metadata": {
        "id": "6961fbd1-7f50-45b0-8eb9-ebf370fce53b"
      },
      "outputs": [],
      "source": [
        "sv_threshold = 0.5\n",
        "min_sigma_value = max(singular_values) * sv_threshold\n",
        "singular_values[singular_values < min_sigma_value] = 0"
      ]
    },
    {
      "cell_type": "markdown",
      "id": "b33620c9-51e0-4edb-a15a-625f515a47e3",
      "metadata": {
        "id": "b33620c9-51e0-4edb-a15a-625f515a47e3"
      },
      "source": [
        "### Calculate salience scores using the square root of the dot product  of squared singular values and squared topic-body matrix elements.\n"
      ]
    },
    {
      "cell_type": "code",
      "execution_count": 36,
      "id": "cac3f625-95e8-4033-a4f6-9257a9e21815",
      "metadata": {
        "id": "cac3f625-95e8-4033-a4f6-9257a9e21815"
      },
      "outputs": [],
      "source": [
        "salience_scores = np.sqrt(np.dot(np.square(singular_values),\n",
        "                                 np.square(topic_body_2_mat)))"
      ]
    },
    {
      "cell_type": "code",
      "execution_count": 37,
      "id": "17bccd27-0e23-48bb-8c62-ba4adf670d44",
      "metadata": {
        "id": "17bccd27-0e23-48bb-8c62-ba4adf670d44"
      },
      "outputs": [],
      "source": [
        "top_sentence_indices = (-salience_scores).argsort()[:num_sentences]\n",
        "top_sentence_indices.sort()"
      ]
    },
    {
      "cell_type": "code",
      "execution_count": 38,
      "id": "530adddf-5b11-4865-9576-b2ba0211b5ed",
      "metadata": {
        "id": "530adddf-5b11-4865-9576-b2ba0211b5ed"
      },
      "outputs": [],
      "source": [
        "a=np.array(sentences)[top_sentence_indices]"
      ]
    },
    {
      "cell_type": "code",
      "execution_count": 39,
      "id": "7370743a-99b6-43c4-b62b-7dc539cc6452",
      "metadata": {
        "id": "7370743a-99b6-43c4-b62b-7dc539cc6452"
      },
      "outputs": [],
      "source": [
        "b = a.tolist()"
      ]
    },
    {
      "cell_type": "code",
      "execution_count": 40,
      "id": "c03f5e6b-f382-4256-b283-0df664cf9a66",
      "metadata": {
        "colab": {
          "base_uri": "https://localhost:8080/"
        },
        "id": "c03f5e6b-f382-4256-b283-0df664cf9a66",
        "outputId": "5fe83047-30fe-4be8-bd69-2ab4d958e171"
      },
      "outputs": [
        {
          "output_type": "stream",
          "name": "stdout",
          "text": [
            "I saw ABC back in Neuro-Oncology Clinic today. Despite repeatedly emphasizing this; however, the patient still is worried about potential long-term side effects from treatment that frankly seem unwarranted at this particular time. After seeing you in clinic, he and his friend again wanted to discuss possible changes in the chemotherapy regimen. They then wanted another MRI to be performed and they were hoping that with the use of this type of approach, they might be able to induce another remission from which he can once again be spared radiation. It is not that he does not want treatment, however. Because I told him that I did not feel it was ethical to just put him on the radical regimen that him and his friend devised, we compromised and elected to go back to Temodar in a low dose daily type regimen. While I am very uncomfortable with this type of approach, I think as long as he is going to be monitored closely that we may be able to get away with this for at least a reasonable interval. I will look at this as a positive sign because I think radiation is the one therapy from which he can get a reasonable response in the long term.\n"
          ]
        }
      ],
      "source": [
        "single_string = ' '.join(b)\n",
        "\n",
        "# Display the single string\n",
        "print(single_string)"
      ]
    },
    {
      "cell_type": "markdown",
      "id": "35552921-13ee-4564-8ee6-4d58173ee89b",
      "metadata": {
        "id": "35552921-13ee-4564-8ee6-4d58173ee89b"
      },
      "source": [
        "### Result:\n",
        "\n",
        "We extracted the top 8 sentences and displayed it."
      ]
    },
    {
      "cell_type": "code",
      "execution_count": 41,
      "id": "f22234f3-674c-4c4c-82cb-52b820d52f64",
      "metadata": {
        "colab": {
          "base_uri": "https://localhost:8080/"
        },
        "id": "f22234f3-674c-4c4c-82cb-52b820d52f64",
        "outputId": "aa7afd75-f18f-4d25-fefe-57854b3aed7f"
      },
      "outputs": [
        {
          "output_type": "stream",
          "name": "stdout",
          "text": [
            "I saw ABC back in Neuro-Oncology Clinic today.\n",
            "Despite repeatedly emphasizing this; however, the patient still is worried about potential long-term side effects from treatment that frankly seem unwarranted at this particular time.\n",
            "After seeing you in clinic, he and his friend again wanted to discuss possible changes in the chemotherapy regimen.\n",
            "They then wanted another MRI to be performed and they were hoping that with the use of this type of approach, they might be able to induce another remission from which he can once again be spared radiation.\n",
            "It is not that he does not want treatment, however.\n",
            "Because I told him that I did not feel it was ethical to just put him on the radical regimen that him and his friend devised, we compromised and elected to go back to Temodar in a low dose daily type regimen.\n",
            "While I am very uncomfortable with this type of approach, I think as long as he is going to be monitored closely that we may be able to get away with this for at least a reasonable interval.\n",
            "I will look at this as a positive sign because I think radiation is the one therapy from which he can get a reasonable response in the long term.\n"
          ]
        }
      ],
      "source": [
        "print('\\n'.join(np.array(sentences)[top_sentence_indices]))\n"
      ]
    },
    {
      "cell_type": "markdown",
      "id": "81484ffa-a2b6-4f05-92a0-3e0f84b33deb",
      "metadata": {
        "id": "81484ffa-a2b6-4f05-92a0-3e0f84b33deb"
      },
      "source": [
        "### Metrics:\n",
        "\n",
        "Torchmetrics library to print the ROUGE scores.|"
      ]
    },
    {
      "cell_type": "code",
      "execution_count": 42,
      "id": "545c7c08-6135-4f22-883d-5f2393030f3d",
      "metadata": {
        "colab": {
          "base_uri": "https://localhost:8080/"
        },
        "id": "545c7c08-6135-4f22-883d-5f2393030f3d",
        "outputId": "4e24185d-62c6-4f36-b6f0-e3e2e679c43f"
      },
      "outputs": [
        {
          "output_type": "stream",
          "name": "stdout",
          "text": [
            "{'rouge1_fmeasure': tensor(0.5582),\n",
            " 'rouge1_precision': tensor(0.3872),\n",
            " 'rouge1_recall': tensor(1.),\n",
            " 'rouge2_fmeasure': tensor(0.5464),\n",
            " 'rouge2_precision': tensor(0.3787),\n",
            " 'rouge2_recall': tensor(0.9810),\n",
            " 'rougeL_fmeasure': tensor(0.5582),\n",
            " 'rougeL_precision': tensor(0.3872),\n",
            " 'rougeL_recall': tensor(1.),\n",
            " 'rougeLsum_fmeasure': tensor(0.5582),\n",
            " 'rougeLsum_precision': tensor(0.3872),\n",
            " 'rougeLsum_recall': tensor(1.)}\n"
          ]
        }
      ],
      "source": [
        "rouge=ROUGEScore()\n",
        "pprint(rouge(body_2,single_string))"
      ]
    },
    {
      "cell_type": "markdown",
      "id": "968a5aa1-e651-47d2-99f2-b95d5b8ffc99",
      "metadata": {
        "id": "968a5aa1-e651-47d2-99f2-b95d5b8ffc99"
      },
      "source": [
        "### Plot:\n",
        "\n",
        "A simple plot to show the F1 scores across different ROUGE variants."
      ]
    },
    {
      "cell_type": "code",
      "execution_count": 43,
      "id": "26d08a71-5396-4a63-b8a9-5374cfb8598e",
      "metadata": {
        "colab": {
          "base_uri": "https://localhost:8080/",
          "height": 498
        },
        "id": "26d08a71-5396-4a63-b8a9-5374cfb8598e",
        "outputId": "f872c10d-7ea7-4075-bcaa-a13b6ec81cf4"
      },
      "outputs": [
        {
          "output_type": "display_data",
          "data": {
            "text/plain": [
              "<Figure size 640x480 with 1 Axes>"
            ],
            "image/png": "[encoded data removed]"
          },
          "metadata": {}
        }
      ],
      "source": [
        "metric = ROUGEScore()\n",
        "values = [ ]\n",
        "for _ in range(10):\n",
        "    values.append(rouge(body_2, single_string))\n",
        "fig_, ax_ = metric.plot(values)"
      ]
    }
  ],
  "metadata": {
    "kernelspec": {
      "display_name": "Python 3 (ipykernel)",
      "language": "python",
      "name": "python3"
    },
    "language_info": {
      "codemirror_mode": {
        "name": "ipython",
        "version": 3
      },
      "file_extension": ".py",
      "mimetype": "text/x-python",
      "name": "python",
      "nbconvert_exporter": "python",
      "pygments_lexer": "ipython3",
      "version": "3.11.4"
    },
    "colab": {
      "provenance": []
    }
  },
  "nbformat": 4,
  "nbformat_minor": 5
}